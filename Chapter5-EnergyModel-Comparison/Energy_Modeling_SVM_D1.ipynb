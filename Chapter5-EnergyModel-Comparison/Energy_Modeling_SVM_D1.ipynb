{
 "cells": [
  {
   "cell_type": "code",
   "execution_count": null,
   "metadata": {
    "collapsed": true
   },
   "outputs": [],
   "source": [
    "import numpy as np\n",
    "import pandas as pd\n",
    "from sklearn.model_selection import GridSearchCV, TimeSeriesSplit, KFold, RepeatedKFold, train_test_split\n",
    "import matplotlib.pyplot as plt\n",
    "import seaborn as sns\n",
    "sns.set(color_codes=True)\n",
    "from sklearn.metrics import precision_score, mean_squared_error, r2_score, make_scorer\n",
    "from time import time\n",
    "from sklearn.preprocessing import MinMaxScaler\n",
    "from sklearn.preprocessing import quantile_transform\n",
    "import scipy.stats as st\n",
    "from sklearn.feature_selection import RFE, RFECV, SelectFromModel, mutual_info_regression, SelectKBest\n",
    "from xgboost import XGBRegressor\n",
    "from sklearn.svm import SVR\n",
    "from sklearn.decomposition import PCA\n",
    "from sklearn.pipeline import Pipeline\n",
    "import pprint as pp\n",
    "import datetime\n",
    "%matplotlib inline"
   ]
  },
  {
   "cell_type": "code",
   "execution_count": null,
   "metadata": {
    "collapsed": false
   },
   "outputs": [],
   "source": [
    "Climate_Data = pd.read_excel('Climate_Data.xls')\n",
    "#######################################################################################################################\n",
    "Energy_Data_mean = Climate_Data.groupby(['Year', 'Month', 'Day of Month']).mean()\n",
    "Energy_Data_mean = Energy_Data_mean[['Day of Week', 'Is Holiday', 'Daylight Savings', 'DHI', 'DNI', 'Dew Point', \n",
    "                                     'Temperature', 'Relative Humidity']]\n",
    "Energy_Data_mean.columns = ['Day_of_Week', 'Is_Holiday', 'Daylight_Savings', 'DHI_AVG', 'DNI_AVG', 'Dew Point_AVG', \n",
    "                            'Temperature_AVG', 'Relative Humidity_AVG']\n",
    "#######################################################################################################################\n",
    "Energy_Data_sum = Climate_Data.groupby(['Year', 'Month', 'Day of Month']).sum()\n",
    "Energy_Data_sum = Energy_Data_sum[['DHI', 'DNI', 'Dew Point', 'Temperature', 'Relative Humidity']]\n",
    "Energy_Data_sum.columns = ['DHI_SUM', 'DNI_SUM', 'Dew Point_SUM', 'Temperature_SUM', 'Relative Humidity_SUM']\n",
    "#######################################################################################################################\n",
    "Energy_Data_max = Climate_Data.groupby(['Year', 'Month', 'Day of Month']).max()\n",
    "Energy_Data_max = Energy_Data_max[['DHI', 'DNI', 'Dew Point', 'Temperature', 'Relative Humidity']]\n",
    "Energy_Data_max.columns = ['DHI_MAX', 'DNI_MAX', 'Dew Point_MAX', 'Temperature_MAX', 'Relative Humidity_MAX']\n",
    "#######################################################################################################################\n",
    "Energy_Data_std = Climate_Data.groupby(['Year', 'Month', 'Day of Month']).std()\n",
    "Energy_Data_std = Energy_Data_std[['DHI', 'DNI', 'Dew Point', 'Temperature', 'Relative Humidity']]\n",
    "Energy_Data_std.columns = ['DHI_STD', 'DNI_STD', 'Dew Point_STD', 'Temperature_STD', 'Relative Humidity_STD']\n",
    "#######################################################################################################################\n",
    "Energy_Data_min = Climate_Data.groupby(['Year', 'Month', 'Day of Month']).min()\n",
    "Energy_Data_min = Energy_Data_min[['DHI', 'DNI', 'Dew Point', 'Temperature', 'Relative Humidity']]\n",
    "Energy_Data_min.columns = ['DHI_MIN', 'DNI_MIN', 'Dew Point_MIN', 'Temperature_MIN', 'Relative Humidity_MIN']\n",
    "#######################################################################################################################\n",
    "Energy_Data = pd.concat([Energy_Data_mean, Energy_Data_sum, Energy_Data_max, Energy_Data_std, Energy_Data_min], axis=1)\n",
    "Energy_Data.reset_index(inplace=True)\n",
    "Energy_Data['Energy_Consumption'] = pd.read_excel('EnergyData_D1.xlsx')\n",
    "#######################################################################################################################\n",
    "Energy_Data['Lag1'] = (Energy_Data['Energy_Consumption'].shift(1))\n",
    "Energy_Data.dropna(axis=0,inplace=True)\n",
    "#######################################################################################################################\n",
    "Energy_Data['Date_Time'] = pd.to_datetime(pd.DataFrame({'year': Energy_Data['Year'],'month': Energy_Data['Month'] + 1,\n",
    "                                                        'day': Energy_Data['Day of Month']}))"
   ]
  },
  {
   "cell_type": "code",
   "execution_count": null,
   "metadata": {
    "collapsed": true
   },
   "outputs": [],
   "source": [
    "Feature_Names = ['Month','Day_of_Week', 'Is_Holiday', 'Daylight_Savings', 'DHI_AVG', 'DNI_AVG', 'Dew Point_AVG', \n",
    "                 'Temperature_AVG', 'Relative Humidity_AVG', 'DHI_SUM', 'DNI_SUM', 'Dew Point_SUM', 'Temperature_SUM', \n",
    "                 'Relative Humidity_SUM', 'DHI_MAX', 'DNI_MAX', 'Dew Point_MAX', 'Temperature_MAX', \n",
    "                 'Relative Humidity_MAX', 'DHI_STD', 'DNI_STD', 'Dew Point_STD', 'Temperature_STD', \n",
    "                 'Relative Humidity_STD', 'DHI_MIN', 'DNI_MIN', 'Dew Point_MIN', 'Temperature_MIN', \n",
    "                 'Relative Humidity_MIN', 'Lag1']\n",
    "\n",
    "X = Energy_Data[Feature_Names].as_matrix()\n",
    "y = Energy_Data['Energy_Consumption'].as_matrix()\n",
    "date_time = Energy_Data['Date_Time']"
   ]
  },
  {
   "cell_type": "code",
   "execution_count": null,
   "metadata": {
    "collapsed": true
   },
   "outputs": [],
   "source": [
    "#################################################################################################\n",
    "# To test anomaly detector\n",
    "X_train, X_test, y_train, y_test = train_test_split(X, y, test_size=0.5, shuffle=False)\n",
    "DT_train, DT_Test = train_test_split(date_time, test_size=0.5, shuffle=False)\n",
    "#################################################################################################"
   ]
  },
  {
   "cell_type": "code",
   "execution_count": null,
   "metadata": {
    "collapsed": false
   },
   "outputs": [],
   "source": [
    "def energymodel_SVM():\n",
    "    t0 = time()\n",
    "    np.random.seed(7)\n",
    "    ########################################################################################\n",
    "    # Regression\n",
    "    kf = KFold(n_splits=5, shuffle=True)\n",
    "    scoring_param = make_scorer(mean_squared_error,greater_is_better=False)\n",
    "    \n",
    "    estimators = []\n",
    "    estimators.append(('standardize', MinMaxScaler()))\n",
    "    estimators.append(('FS', SelectKBest(mutual_info_regression)))\n",
    "    estimators.append(('SVM', SVR()))\n",
    "    pipe = Pipeline(estimators)\n",
    "    \n",
    "    y_train_scaled = (y_train - y_train.min())/(y_train.max() - y_train.min())\n",
    "    \n",
    "    p_grid = dict(FS__k = [int(i) for i in np.arange(1,len(Feature_Names)+1,1)],\n",
    "                  SVM__gamma = np.logspace(-3, 0, 4),\n",
    "                  SVM__C = np.logspace(0, 3, 4))\n",
    "    \n",
    "    model = GridSearchCV(estimator = pipe, param_grid = p_grid, scoring = scoring_param, cv = kf, n_jobs=-1)\n",
    "    model.fit(X_train, y_train_scaled)\n",
    "    \n",
    "    params = model.best_params_\n",
    "    print(\"Best best k: %s Best gamma: %f Best C: %s\" % (params['FS__k'], params['SVM__gamma'], params['SVM__C']))\n",
    "    \n",
    "    \n",
    "    Y_Test_Pred_scaled = model.predict(X_test)\n",
    "    Y_Test_Pred = (Y_Test_Pred_scaled*(y_train.max()-y_train.min()))+y_train.min()\n",
    "    \n",
    "    rmse = np.sqrt(mean_squared_error(y_test,Y_Test_Pred))\n",
    "    data_range = y_test.max() - y_test.min()\n",
    "    NRMSE = (rmse/data_range) * 100.0\n",
    "    RSQ = r2_score(y_test,Y_Test_Pred)\n",
    "    print(\"Normalized RMSE: %0.3f\" % NRMSE)\n",
    "    print(\"R-squared: %0.3f\" % RSQ)\n",
    "    \n",
    "    fig = plt.figure(figsize=(30,20))\n",
    "    ax = fig.add_subplot(1, 1, 1)\n",
    "    plt.scatter(y_test, Y_Test_Pred, c=\"g\", s=200, alpha=0.5)\n",
    "    plt.xlabel(\"Target [J]\", fontsize=40)\n",
    "    plt.ylabel(\"Predictions [J]\", fontsize=40)\n",
    "    plt.xticks(fontsize=25)\n",
    "    plt.yticks(fontsize=25)\n",
    "    plt.savefig('Scatter-Target-vs-Pred-SVM-D1')\n",
    "    \n",
    "    fig = plt.figure(figsize=(30,20))\n",
    "    ax = fig.add_subplot(1, 1, 1)\n",
    "    plt.plot(DT_Test.dt.to_pydatetime(), y_test, 'k.', lw=5, markersize=20, label=u'Observations')\n",
    "    plt.plot(DT_Test.dt.to_pydatetime(), Y_Test_Pred, 'r-', lw=5, label=u'Prediction')\n",
    "    plt.xlabel('Date Time',fontsize=40)\n",
    "    plt.ylabel('Energy Consumption - Facility [J]',fontsize=40)\n",
    "    plt.xticks(fontsize=25)\n",
    "    plt.yticks(fontsize=25)\n",
    "    plt.legend(loc='best',fontsize=30)\n",
    "    plt.savefig('Plot-Target-vs-Pred-SVM-D1')\n",
    "    \n",
    "    t1 = time()\n",
    "    print('Time taken for this trial %f' %(t1-t0))\n",
    "    \n",
    "    return model, y_test, Y_Test_Pred"
   ]
  },
  {
   "cell_type": "code",
   "execution_count": null,
   "metadata": {
    "collapsed": false
   },
   "outputs": [],
   "source": [
    "energymodel_SVM()"
   ]
  },
  {
   "cell_type": "code",
   "execution_count": null,
   "metadata": {
    "collapsed": true
   },
   "outputs": [],
   "source": []
  }
 ],
 "metadata": {
  "anaconda-cloud": {},
  "kernelspec": {
   "display_name": "Python [Root]",
   "language": "python",
   "name": "Python [Root]"
  },
  "language_info": {
   "codemirror_mode": {
    "name": "ipython",
    "version": 3
   },
   "file_extension": ".py",
   "mimetype": "text/x-python",
   "name": "python",
   "nbconvert_exporter": "python",
   "pygments_lexer": "ipython3",
   "version": "3.5.4"
  }
 },
 "nbformat": 4,
 "nbformat_minor": 1
}
